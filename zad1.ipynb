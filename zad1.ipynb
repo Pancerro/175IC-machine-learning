{
  "nbformat": 4,
  "nbformat_minor": 0,
  "metadata": {
    "colab": {
      "name": "Untitled1.ipynb",
      "provenance": [],
      "authorship_tag": "ABX9TyNwdw7n1jAw1l6fyqPOHUJ9",
      "include_colab_link": true
    },
    "kernelspec": {
      "name": "python3",
      "display_name": "Python 3"
    }
  },
  "cells": [
    {
      "cell_type": "markdown",
      "metadata": {
        "id": "view-in-github",
        "colab_type": "text"
      },
      "source": [
        "<a href=\"https://colab.research.google.com/github/Pancerro/175IC-machine-learning/blob/main/zad1.ipynb\" target=\"_parent\"><img src=\"https://colab.research.google.com/assets/colab-badge.svg\" alt=\"Open In Colab\"/></a>"
      ]
    },
    {
      "cell_type": "code",
      "metadata": {
        "id": "kGHTXlE3XCNp",
        "outputId": "0cb9e633-f9f4-469e-86bc-3c0ab751b665",
        "colab": {
          "base_uri": "https://localhost:8080/"
        }
      },
      "source": [
        "import pandas as pd\n",
        "import numpy\n",
        "import sklearn\n",
        "from sklearn import preprocessing\n",
        "data = {\n",
        "    'size': ['L', 'M','L', 'M','L', 'M','XL', 'M','XXL', 'S'],\n",
        "    'color': ['green', 'red', 'blue', 'black', 'pink', 'orange','purple','brown','gray', 'white'],\n",
        "    'gender': ['female', 'female', 'men', 'men', 'female', 'female', 'men', 'men', 'female', 'men'],\n",
        "    'price': [149.0, 79.0, 111.99, 120.0, 99.99 , 210.10, 230.12, 33.33, 10.0, 999.99 ],\n",
        "    'weight': [380, 410, 230, 330, 440, 130, 260, 290, 301, 240],\n",
        "    'bought': ['no', 'yes', 'no', 'yes', 'no', 'yes', 'no', 'yes', 'no', 'yes']\n",
        "}\n",
        "\n",
        "df_raw = pd.DataFrame(data=data)\n",
        "df = df_raw.copy()\n",
        "for col in ['size', 'color', 'gender', 'bought']:\n",
        "    df[col] = df[col].astype('category')\n",
        "df['weight'] = df['weight'].astype(float)\n",
        "df.info() \n",
        "df.describe(include=['category']).T\n",
        "le = preprocessing.LabelEncoder()\n",
        "le.fit_transform(df['bought'])\n",
        "le.classes_\n",
        "pd.get_dummies(data=df, drop_first=True)\n",
        "scaler = preprocessing.StandardScaler()\n",
        "df[['price', 'weight']] = scaler.fit_transform(df[['price', 'weight']])\n",
        "print(df)\n",
        "print(df_raw)\n"
      ],
      "execution_count": 20,
      "outputs": [
        {
          "output_type": "stream",
          "text": [
            "<class 'pandas.core.frame.DataFrame'>\n",
            "RangeIndex: 10 entries, 0 to 9\n",
            "Data columns (total 6 columns):\n",
            " #   Column  Non-Null Count  Dtype   \n",
            "---  ------  --------------  -----   \n",
            " 0   size    10 non-null     category\n",
            " 1   color   10 non-null     category\n",
            " 2   gender  10 non-null     category\n",
            " 3   price   10 non-null     float64 \n",
            " 4   weight  10 non-null     float64 \n",
            " 5   bought  10 non-null     category\n",
            "dtypes: category(4), float64(2)\n",
            "memory usage: 1.1 KB\n",
            "  size   color  gender     price    weight bought\n",
            "0    L   green  female -0.202648  0.892858     no\n",
            "1    M     red  female -0.458924  1.232348    yes\n",
            "2    L    blue     men -0.338145 -0.804591     no\n",
            "3    M   black     men -0.308820  0.327042    yes\n",
            "4    L    pink  female -0.382078  1.571837     no\n",
            "5    M  orange  female  0.021044 -1.936223    yes\n",
            "6   XL  purple     men  0.094339 -0.465101     no\n",
            "7    M   brown     men -0.626126 -0.125611    yes\n",
            "8  XXL    gray  female -0.711539 -0.001132     no\n",
            "9    S   white     men  2.912896 -0.691427    yes\n",
            "  size   color  gender   price  weight bought\n",
            "0    L   green  female  149.00     380     no\n",
            "1    M     red  female   79.00     410    yes\n",
            "2    L    blue     men  111.99     230     no\n",
            "3    M   black     men  120.00     330    yes\n",
            "4    L    pink  female   99.99     440     no\n",
            "5    M  orange  female  210.10     130    yes\n",
            "6   XL  purple     men  230.12     260     no\n",
            "7    M   brown     men   33.33     290    yes\n",
            "8  XXL    gray  female   10.00     301     no\n",
            "9    S   white     men  999.99     240    yes\n"
          ],
          "name": "stdout"
        }
      ]
    }
  ]
}